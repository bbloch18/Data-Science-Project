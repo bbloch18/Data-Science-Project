{
 "cells": [
  {
   "cell_type": "markdown",
   "metadata": {},
   "source": [
    "Importing libraries"
   ]
  },
  {
   "cell_type": "code",
   "execution_count": 26,
   "metadata": {
    "collapsed": true
   },
   "outputs": [],
   "source": [
    "import csv\n",
    "import pandas as pd\n",
    "import numpy as np\n",
    "import sys\n",
    "from scipy import stats\n",
    "import matplotlib.pyplot as plt"
   ]
  },
  {
   "cell_type": "markdown",
   "metadata": {},
   "source": [
    "First, selected only providers in the US and then dropped columns that we dont want to use."
   ]
  },
  {
   "cell_type": "code",
   "execution_count": 27,
   "metadata": {
    "collapsed": true,
    "scrolled": true
   },
   "outputs": [],
   "source": [
    "# data1 = pd.read_csv('Dataset.csv', encoding='utf-8')\n",
    "data = pd.read_csv('Dataset.csv', nrows = 200, encoding='utf-8')\n",
    " \n",
    "data = data[data.nppes_provider_country=='US']\n"
   ]
  },
  {
   "cell_type": "code",
   "execution_count": 28,
   "metadata": {
    "collapsed": true
   },
   "outputs": [],
   "source": [
    "#npi=National Provider Identifier\n",
    "#nppes_provider_last_org_name=Last Name/Organization Name of the Provider\n",
    "#nppes_provider_mi= Middle Initial of the Provider\n",
    "#description_flag = Source of Provider Specialty\n",
    "data.drop(['npi',\n",
    "           'nppes_provider_last_org_name',\n",
    "           'nppes_provider_first_name',\n",
    "           'nppes_provider_mi',\n",
    "           'nppes_provider_street1',\n",
    "           'nppes_provider_street2',\n",
    "           'nppes_provider_zip4',\n",
    "           'nppes_provider_country',\n",
    "           'description_flag',\n",
    "           'ge65_suppress_flag',\n",
    "           'total_claim_count_ge65',\n",
    "           'total_30_day_fill_count_ge65',\n",
    "           'total_drug_cost_ge65',\n",
    "           'total_day_supply_ge65',\n",
    "           'bene_count_ge65_suppress_flag',\n",
    "           'bene_count_ge65',\n",
    "           'mapd_suppress_flag',\n",
    "           'pdp_suppress_flag',\n",
    "           'lis_suppress_flag',\n",
    "           'nonlis_suppress_flag',\n",
    "           'opioid_prescriber_rate',\n",
    "           'hrm_ge65_suppress_flag',\n",
    "           'hrm_claim_count_ge65',\n",
    "           'hrm_drug_cost_ge65',\n",
    "           'hrm_bene_ge65_suppress_flag',\n",
    "           'hrm_bene_count_ge65',\n",
    "           'antipsych_ge65_suppress_flag',\n",
    "           'antipsych_claim_count_ge65',\n",
    "           'antipsych_drug_cost_ge65',\n",
    "           'antipsych_bene_ge65_suppress_flg',\n",
    "           'antipsych_bene_count_ge65',\n",
    "           'mapd_claim_count',                   \n",
    "           'mapd_drug_cost',                      \n",
    "           'pdp_claim_count',                     \n",
    "            'pdp_drug_cost',                      \n",
    "            'lis_claim_count',                      \n",
    "            'lis_drug_cost',                        \n",
    "            'nonlis_claim_count',                   \n",
    "            'nonlis_drug_cost',                     \n",
    "            'opioid_claim_count',                  \n",
    "            'opioid_drug_cost',                     \n",
    "            'opioid_day_supply',                    \n",
    "            'opioid_bene_count',                   \n",
    "            'antibiotic_claim_count',              \n",
    "            'antibiotic_drug_cost',                 \n",
    "            'antibiotic_bene_count',\n",
    "             'beneficiary_age_less_65_count',\n",
    "             'beneficiary_age_65_74_count',\n",
    "             'beneficiary_age_75_84_count',\n",
    "             'beneficiary_age_greater_84_count', 'nppes_provider_zip5', 'nppes_provider_city'\n",
    "            ],axis = 1,inplace = True)\n",
    "\n",
    "data.index = range(len(data))\n",
    "data.replace({',':'','\\$':''},regex= True,inplace = True)"
   ]
  },
  {
   "cell_type": "markdown",
   "metadata": {},
   "source": [
    "Declaring descriptive attributes as strings and total costs to ints"
   ]
  },
  {
   "cell_type": "code",
   "execution_count": 29,
   "metadata": {
    "collapsed": true
   },
   "outputs": [],
   "source": [
    "data['nppes_credentials'] = data['nppes_credentials'].astype(str)\n",
    "data['nppes_provider_gender'] = data['nppes_provider_gender'].astype(str)\n",
    "data['nppes_entity_code'] = data['nppes_entity_code'].astype(str)\n",
    "data['nppes_provider_state'] = data['nppes_provider_state'].astype(str)\n",
    "data['specialty_description'] = data['specialty_description'].astype(str)\n",
    "data['total_drug_cost'] = data['total_drug_cost'].astype(float)\n",
    "data['brand_drug_cost'] = data['brand_drug_cost'].astype(float)\n",
    "data['generic_drug_cost'] = data['generic_drug_cost'].astype(float)\n",
    "\n",
    "data['other_drug_cost'] = data['other_drug_cost'].astype(float)\n",
    "data['nppes_provider_gender'] = data['nppes_provider_gender'].replace('nan','Org')\n",
    "data['nppes_credentials'] = data['nppes_credentials'].replace('nan', 'Org')"
   ]
  },
  {
   "cell_type": "markdown",
   "metadata": {},
   "source": [
    "<font color=\"red\">When the provider is registered in NPPES as an individual\n",
    "(entity_type_code = “I”), this is the provider’s last name. When the provider is registered as an\n",
    "organization (nppes_entity_code = “O”), this is the organization name.</font>\n",
    "\n",
    "<p><b>medicare_prvdr_enroll_status</b> – \n",
    "<font color=\"blue\">A status to indicate whether the prescriber is enrolled in the\n",
    "Medicare Program.\n",
    "“E” = Providers who are enrolled in the Medicare Program as of end of the data reporting year.\n",
    "“N” = Providers who are not enrolled in the Medicare Program as of the end of the data\n",
    "reporting year.\n",
    "“O” = Providers who did not wish to enroll in the Medicare program as of end of the data\n",
    "reporting year but have signed a written affidavit to opt out that states neither the\n",
    "provider nor the beneficiary can receive payment from Medicare for services performed.</font><p>"
   ]
  },
  {
   "cell_type": "markdown",
   "metadata": {},
   "source": [
    "Replacing string features with categorical bins"
   ]
  },
  {
   "cell_type": "code",
   "execution_count": 30,
   "metadata": {
    "collapsed": true
   },
   "outputs": [],
   "source": [
    "data.loc[data.nppes_provider_gender == 'M', 'nppes_provider_gender'] = 0\n",
    "data.loc[data.nppes_provider_gender == 'F', 'nppes_provider_gender'] = 1\n",
    "data.loc[data.nppes_provider_gender == 'Org', 'nppes_provider_gender'] = 2\n",
    "#nppes_entity_code =Entity Type of the Provider\n",
    "data.loc[data.nppes_entity_code == 'O', 'nppes_entity_code'] = 0\n",
    "data.loc[data.nppes_entity_code == 'I', 'nppes_entity_code'] = 1\n",
    "data.loc[data.medicare_prvdr_enroll_status == 'O', 'medicare_prvdr_enroll_status'] = 0\n",
    "data.loc[data.medicare_prvdr_enroll_status == 'E', 'medicare_prvdr_enroll_status'] = 1\n",
    "data.loc[data.medicare_prvdr_enroll_status == 'N', 'medicare_prvdr_enroll_status'] = 2\n",
    "state_list = data.nppes_provider_state.unique()\n",
    "specialty_list = data.specialty_description.unique()\n",
    "credentials_list = data.nppes_credentials.unique()\n",
    "unique_vars = {v: k for k, v in enumerate(np.unique(state_list))}\n",
    "data['nppes_provider_state'] = np.array([unique_vars[i] for i in data['nppes_provider_state']])\n",
    "unique_vars = {v: k for k, v in enumerate(np.unique(specialty_list))}\n",
    "data['specialty_description'] = np.array([unique_vars[i] for i in data['specialty_description']])\n",
    "unique_vars = {v: k for k, v in enumerate(np.unique(credentials_list))}\n",
    "data['nppes_credentials'] = np.array([unique_vars[i] for i in data['nppes_credentials']])\n",
    "\n",
    "      "
   ]
  },
  {
   "cell_type": "markdown",
   "metadata": {},
   "source": [
    "Removing the columns with NaN values because we need them to calculate the mean.\n"
   ]
  },
  {
   "cell_type": "code",
   "execution_count": 31,
   "metadata": {
    "collapsed": true
   },
   "outputs": [],
   "source": [
    "def remove_NaN_Values(column,data):\n",
    "    data_temp=data.dropna(subset=[column])\n",
    "    return data_temp[column].mean()\n",
    "    "
   ]
  },
  {
   "cell_type": "markdown",
   "metadata": {},
   "source": [
    "total_claim_count – The number of Medicare Part D claims. This includes original prescriptions and\n",
    "refills. Aggregated records based on total_claim_count fewer than 11 are not included in the data file.\n",
    "\n",
    "\n",
    "bene_count – The total number of unique Medicare Part D beneficiaries with at least one claim for the\n",
    "drug. Counts fewer than 11 are suppressed and are indicated by a blank."
   ]
  },
  {
   "cell_type": "markdown",
   "metadata": {},
   "source": [
    "Replacing missing values in non-string columns and calculating ratio columns. "
   ]
  },
  {
   "cell_type": "code",
   "execution_count": 36,
   "metadata": {},
   "outputs": [
    {
     "name": "stdout",
     "output_type": "stream",
     "text": [
      "1050.18 121.33540372670808\n",
      "0.11553772089233091\n"
     ]
    }
   ],
   "source": [
    "average_total =remove_NaN_Values('total_claim_count',data)\n",
    "average_bene = remove_NaN_Values('bene_count',data)\n",
    "print(average_total,average_bene)\n",
    "bene_ratio = average_bene / average_total\n",
    "round(bene_ratio * data['total_claim_count'],0)\n",
    "print(bene_ratio)\n",
    "\n",
    "\n",
    "average_age = remove_NaN_Values('average_age_of_beneficiaries',data)\n",
    "average_fem = remove_NaN_Values('beneficiary_female_count',data)\n",
    "average_fem_ratio = average_fem / average_bene\n",
    "average_male_ratio = 1- average_fem_ratio\n",
    "\n",
    "avg_bene1 = remove_NaN_Values('bene_count',data)\n",
    "\n",
    "avg_white = remove_NaN_Values('beneficiary_race_white_count',data)\n",
    "avg_white_ratio = avg_white / avg_bene1\n",
    "\n",
    "avg_black = remove_NaN_Values('beneficiary_race_black_count',data)\n",
    "avg_black_ratio = avg_black / avg_bene1\n",
    "\n",
    "avg_asian = remove_NaN_Values('beneficiary_race_asian_pi_count',data)\n",
    "avg_asian_ratio = avg_asian / avg_bene1\n",
    "\n",
    "avg_hisp = remove_NaN_Values('beneficiary_race_hispanic_count',data)\n",
    "avg_hisp_ratio = avg_hisp / avg_bene1\n",
    "\n",
    "avg_nat = remove_NaN_Values('beneficiary_race_nat_ind_count',data)\n",
    "avg_nat_ratio = avg_nat / avg_bene1\n",
    "\n",
    "avg_other = remove_NaN_Values('beneficiary_race_other_count',data)\n",
    "avg_other_ratio = avg_other / avg_bene1\n",
    "\n",
    "avg_nondual = remove_NaN_Values('beneficiary_nondual_count',data)\n",
    "avg_nondual_ratio = avg_nondual / average_bene\n",
    "avg_dual = remove_NaN_Values('beneficiary_dual_count',data)\n",
    "avg_dual_ratio = avg_dual / average_bene\n",
    "\n",
    "\n",
    "avg_risk = remove_NaN_Values('beneficiary_average_risk_score',data)"
   ]
  },
  {
   "cell_type": "markdown",
   "metadata": {},
   "source": [
    "Checking datatypes of the columns"
   ]
  },
  {
   "cell_type": "code",
   "execution_count": 37,
   "metadata": {},
   "outputs": [
    {
     "data": {
      "text/plain": [
       "nppes_credentials                    int32\n",
       "nppes_provider_gender               object\n",
       "nppes_entity_code                   object\n",
       "nppes_provider_state                 int32\n",
       "specialty_description                int32\n",
       "medicare_prvdr_enroll_status        object\n",
       "total_claim_count                  float64\n",
       "total_30_day_fill_count             object\n",
       "total_drug_cost                    float64\n",
       "total_day_supply                    object\n",
       "bene_count                         float64\n",
       "brand_suppress_flag                 object\n",
       "brand_claim_count                   object\n",
       "brand_drug_cost                    float64\n",
       "generic_suppress_flag               object\n",
       "generic_claim_count                 object\n",
       "generic_drug_cost                  float64\n",
       "other_suppress_flag                 object\n",
       "other_claim_count                  float64\n",
       "other_drug_cost                    float64\n",
       "average_age_of_beneficiaries       float64\n",
       "beneficiary_female_count           float64\n",
       "beneficiary_male_count             float64\n",
       "beneficiary_race_white_count       float64\n",
       "beneficiary_race_black_count       float64\n",
       "beneficiary_race_asian_pi_count    float64\n",
       "beneficiary_race_hispanic_count    float64\n",
       "beneficiary_race_nat_ind_count     float64\n",
       "beneficiary_race_other_count       float64\n",
       "beneficiary_nondual_count          float64\n",
       "beneficiary_dual_count             float64\n",
       "beneficiary_average_risk_score     float64\n",
       "dtype: object"
      ]
     },
     "execution_count": 37,
     "metadata": {},
     "output_type": "execute_result"
    }
   ],
   "source": [
    "data.dtypes"
   ]
  },
  {
   "cell_type": "markdown",
   "metadata": {},
   "source": [
    "Certain columns have object as their datatype. We need to change it to float/int to perform mathematical operations. Changing to float."
   ]
  },
  {
   "cell_type": "code",
   "execution_count": 38,
   "metadata": {
    "collapsed": true
   },
   "outputs": [],
   "source": [
    "data['total_claim_count']=data['total_claim_count'].astype('float64')\n",
    "data['bene_count']=data['bene_count'].astype('float64')\n",
    "data['beneficiary_nondual_count']=data['beneficiary_nondual_count'].astype('float64')\n",
    "         \n"
   ]
  },
  {
   "cell_type": "code",
   "execution_count": 39,
   "metadata": {},
   "outputs": [
    {
     "name": "stdout",
     "output_type": "stream",
     "text": [
      "84.0\n",
      "0.11553772089233091\n"
     ]
    }
   ],
   "source": [
    "print(data['total_claim_count'][1])\n",
    "print(bene_ratio)"
   ]
  },
  {
   "cell_type": "code",
   "execution_count": 40,
   "metadata": {},
   "outputs": [
    {
     "name": "stdout",
     "output_type": "stream",
     "text": [
      "0        2.0\n",
      "1       10.0\n",
      "2        3.0\n",
      "3        3.0\n",
      "4        3.0\n",
      "5        2.0\n",
      "6        2.0\n",
      "7        3.0\n",
      "8        6.0\n",
      "9        6.0\n",
      "10      13.0\n",
      "11       1.0\n",
      "12       6.0\n",
      "13       4.0\n",
      "14       3.0\n",
      "15       1.0\n",
      "16       2.0\n",
      "17      26.0\n",
      "18       7.0\n",
      "19       4.0\n",
      "20       1.0\n",
      "21      15.0\n",
      "22       2.0\n",
      "23     520.0\n",
      "24       9.0\n",
      "25       2.0\n",
      "26       2.0\n",
      "27      20.0\n",
      "28      10.0\n",
      "29      21.0\n",
      "       ...  \n",
      "170      2.0\n",
      "171      2.0\n",
      "172     11.0\n",
      "173     21.0\n",
      "174      2.0\n",
      "175    210.0\n",
      "176      2.0\n",
      "177    138.0\n",
      "178     13.0\n",
      "179      1.0\n",
      "180      6.0\n",
      "181     10.0\n",
      "182     89.0\n",
      "183     34.0\n",
      "184     53.0\n",
      "185      5.0\n",
      "186      4.0\n",
      "187      4.0\n",
      "188      7.0\n",
      "189     38.0\n",
      "190     24.0\n",
      "191     18.0\n",
      "192     52.0\n",
      "193      8.0\n",
      "194    310.0\n",
      "195      4.0\n",
      "196     58.0\n",
      "197    211.0\n",
      "198    174.0\n",
      "199    188.0\n",
      "Name: total_claim_count, Length: 200, dtype: float64\n"
     ]
    }
   ],
   "source": [
    "print(round(bene_ratio * data['total_claim_count'],0))"
   ]
  },
  {
   "cell_type": "markdown",
   "metadata": {},
   "source": [
    "Using the mean to fill in missing values. Then calculated relevant ratios so that our features will make sense for modeling. \n",
    "Dropped features that are no longer necessary after generating ratios."
   ]
  },
  {
   "cell_type": "code",
   "execution_count": 41,
   "metadata": {
    "collapsed": true
   },
   "outputs": [],
   "source": [
    "data.loc[data.bene_count.isnull(), 'bene_count'] = round(bene_ratio * data['total_claim_count'],0)\n",
    "data.loc[data.beneficiary_female_count.isnull(), 'beneficiary_female_count'] = round(average_fem_ratio * data['bene_count'],0)\n",
    "data.loc[data.beneficiary_male_count.isnull(), 'beneficiary_male_count'] = round(average_male_ratio * data['bene_count'],0)\n",
    "data.loc[data.average_age_of_beneficiaries.isnull(), 'average_age_of_beneficiaries'] = round(average_age,0)\n",
    "data.loc[data.beneficiary_race_white_count.isnull(), 'beneficiary_race_white_count'] = round(avg_white_ratio * data['bene_count'],0)\n",
    "data.loc[data.beneficiary_race_black_count.isnull(), 'beneficiary_race_black_count'] = round(avg_black_ratio * data['bene_count'],0)\n",
    "data.loc[data.beneficiary_race_asian_pi_count.isnull(), 'beneficiary_race_asian_pi_count'] = round(avg_asian_ratio * data['bene_count'],0)\n",
    "data.loc[data.beneficiary_race_hispanic_count.isnull(), 'beneficiary_race_hispanic_count'] = round(avg_hisp_ratio * data['bene_count'],0)\n",
    "data.loc[data.beneficiary_race_nat_ind_count.isnull(), 'beneficiary_race_nat_ind_count'] = round(avg_nat_ratio * data['bene_count'],0)\n",
    "data.loc[data.beneficiary_race_other_count.isnull(), 'beneficiary_race_other_count'] = round(avg_other_ratio * data['bene_count'],0)\n",
    "data.loc[data.beneficiary_nondual_count.isnull(), 'beneficiary_nondual_count'] = round(avg_nondual_ratio * data['bene_count'],0)\n",
    "data.loc[data.beneficiary_dual_count.isnull(), 'beneficiary_dual_count'] = round(avg_dual_ratio * data['bene_count'],0)\n",
    "data.loc[data.beneficiary_average_risk_score.isnull(), 'beneficiary_average_risk_score'] = avg_risk"
   ]
  },
  {
   "cell_type": "markdown",
   "metadata": {},
   "source": [
    "Assign new columns to a DataFrame, returning a new object (a copy) with all the original columns in addition to the new ones."
   ]
  },
  {
   "cell_type": "code",
   "execution_count": 42,
   "metadata": {
    "collapsed": true
   },
   "outputs": [],
   "source": [
    "\n",
    "\n",
    "data = data.assign(beneficiary_female_count = lambda x: (x.beneficiary_female_count /x.bene_count))\n",
    "data['gender_ratio'] = data['beneficiary_female_count']\n",
    "data = data.drop(['beneficiary_female_count','beneficiary_male_count'], axis = 1)\n",
    "data = data.assign(beneficiary_race_white_count = lambda x: (x.beneficiary_race_white_count /x.bene_count))\n",
    "data['white_ratio'] = data['beneficiary_race_white_count']\n",
    "data = data.assign(beneficiary_race_black_count = lambda x: (x.beneficiary_race_black_count /x.bene_count))\n",
    "data['black_ratio'] = data['beneficiary_race_black_count']\n",
    "data = data.assign(beneficiary_race_asian_pi_count = lambda x: (x.beneficiary_race_asian_pi_count /x.bene_count))\n",
    "data['asian_ratio'] = data['beneficiary_race_asian_pi_count']\n",
    "data = data.assign(beneficiary_race_hispanic_count = lambda x: (x.beneficiary_race_hispanic_count /x.bene_count))\n",
    "data['hispanic_ratio'] = data['beneficiary_race_hispanic_count']\n",
    "data = data.assign(beneficiary_race_nat_ind_count = lambda x: (x.beneficiary_race_nat_ind_count /x.bene_count))\n",
    "data['nat_ind_ratio'] = data['beneficiary_race_nat_ind_count']\n",
    "data = data.assign(beneficiary_race_other_count = lambda x: (x.beneficiary_race_other_count /x.bene_count))\n",
    "data['other_ratio'] = data['beneficiary_race_other_count']\n",
    "data = data.drop(['beneficiary_race_white_count','beneficiary_race_black_count', 'beneficiary_race_asian_pi_count', 'beneficiary_race_hispanic_count', 'beneficiary_race_nat_ind_count', 'beneficiary_race_other_count'], axis = 1)\n",
    "data = data.assign(beneficiary_nondual_count = lambda x: (x.beneficiary_nondual_count /x.bene_count))\n"
   ]
  },
  {
   "cell_type": "code",
   "execution_count": 43,
   "metadata": {
    "collapsed": true
   },
   "outputs": [],
   "source": [
    "data['nondual_insure_ratio'] = data['beneficiary_nondual_count']\n",
    "data = data.drop(['beneficiary_dual_count', 'beneficiary_nondual_count'], axis =1)"
   ]
  },
  {
   "cell_type": "markdown",
   "metadata": {},
   "source": [
    "Dropping rows where total claim count equals other claim count"
   ]
  },
  {
   "cell_type": "code",
   "execution_count": 44,
   "metadata": {
    "collapsed": true
   },
   "outputs": [],
   "source": [
    "for index, row in data.iterrows():\n",
    "    if row['total_claim_count'] == row['other_claim_count']:\n",
    "        data = data.drop(index)"
   ]
  },
  {
   "cell_type": "markdown",
   "metadata": {},
   "source": [
    "Dropping any rows where brand or generic counts are missing"
   ]
  },
  {
   "cell_type": "code",
   "execution_count": 45,
   "metadata": {
    "collapsed": true,
    "scrolled": true
   },
   "outputs": [],
   "source": [
    "data_est = data\n",
    "data = data.drop(data[data.brand_suppress_flag == '#'].index)\n",
    "data = data.drop(data[data.brand_suppress_flag == '*'].index)\n",
    "data = data.drop(data[data.generic_suppress_flag == '#'].index)\n",
    "data = data.drop(data[data.generic_suppress_flag == '*'].index)"
   ]
  },
  {
   "cell_type": "raw",
   "metadata": {},
   "source": [
    "Creating new dataframe and then converting counts and costs to account for suppressed values"
   ]
  },
  {
   "cell_type": "markdown",
   "metadata": {},
   "source": [
    "<html><p><b>data_est['brand_suppress_flag']</b></p><font color=\"green\">A flag indicating the reason the brand_claim_count and brand_drug_cost\n",
    "variables are suppressed.\n",
    "<p>“*” = Primary suppressed due to brand_claim_count between 1 and 10.</p>\n",
    "<p>“#” = Counter suppressed because the claim count from at least one of the corresponding claim\n",
    "count categories (generic_claim_count or other_claim_count) is between 1 and 10.</p> \n",
    "Counter suppression prevents the disclosure of a primary suppressed value when all categories sum\n",
    "to the total value.<html></font>"
   ]
  },
  {
   "cell_type": "code",
   "execution_count": 46,
   "metadata": {},
   "outputs": [
    {
     "data": {
      "text/plain": [
       "0        *\n",
       "1      NaN\n",
       "2        *\n",
       "3        *\n",
       "4        *\n",
       "5      NaN\n",
       "6        *\n",
       "7        #\n",
       "8      NaN\n",
       "9      NaN\n",
       "10       #\n",
       "11     NaN\n",
       "12       *\n",
       "13     NaN\n",
       "14       *\n",
       "15       *\n",
       "16       *\n",
       "17       #\n",
       "18       #\n",
       "19       *\n",
       "20       *\n",
       "21     NaN\n",
       "22       #\n",
       "23     NaN\n",
       "24     NaN\n",
       "25       *\n",
       "26       *\n",
       "27     NaN\n",
       "28     NaN\n",
       "29     NaN\n",
       "      ... \n",
       "170      *\n",
       "171      *\n",
       "172    NaN\n",
       "173    NaN\n",
       "174      *\n",
       "175    NaN\n",
       "176      #\n",
       "177      #\n",
       "178    NaN\n",
       "179      *\n",
       "180    NaN\n",
       "181    NaN\n",
       "182      #\n",
       "183    NaN\n",
       "184    NaN\n",
       "185      *\n",
       "186      *\n",
       "187      *\n",
       "188      *\n",
       "189      #\n",
       "190      #\n",
       "191    NaN\n",
       "192    NaN\n",
       "193    NaN\n",
       "194    NaN\n",
       "195      *\n",
       "196      #\n",
       "197      #\n",
       "198    NaN\n",
       "199      #\n",
       "Name: brand_suppress_flag, Length: 200, dtype: object"
      ]
     },
     "execution_count": 46,
     "metadata": {},
     "output_type": "execute_result"
    }
   ],
   "source": [
    "data_est['brand_suppress_flag']"
   ]
  },
  {
   "cell_type": "markdown",
   "metadata": {},
   "source": [
    "<b>We have to change the datatypes of these two columns I checked because we are using them for subtraction operation so they have to be converted from object datatype to float64. </b>"
   ]
  },
  {
   "cell_type": "code",
   "execution_count": 47,
   "metadata": {},
   "outputs": [
    {
     "name": "stdout",
     "output_type": "stream",
     "text": [
      "datatype of column total_claim_count float64\n",
      "datatype of column brand_claim_count object\n",
      "datatype of column generic_claim_count object\n"
     ]
    }
   ],
   "source": [
    "print(\"datatype of column total_claim_count\",data_est['total_claim_count'].dtypes)\n",
    "print(\"datatype of column brand_claim_count\",data_est['brand_claim_count'].dtypes)\n",
    "print(\"datatype of column generic_claim_count\",data_est['generic_claim_count'].dtypes)\n",
    "data_est['brand_claim_count']=data_est['brand_claim_count'].astype('float64')\n",
    "data_est['generic_claim_count']=data_est['generic_claim_count'].astype('float64')\n"
   ]
  },
  {
   "cell_type": "code",
   "execution_count": 48,
   "metadata": {
    "collapsed": true
   },
   "outputs": [],
   "source": [
    "data_est = data_est.drop(data_est[(data_est.brand_suppress_flag == '*') & (data_est.generic_suppress_flag == '*')].index)\n",
    "data_est.loc[data_est.brand_suppress_flag=='*', 'brand_claim_count'] = 1\n",
    "data_est.loc[data_est.brand_suppress_flag=='*', 'brand_drug_cost'] = 1\n",
    "data_est.loc[data_est.generic_suppress_flag =='*', 'generic_claim_count'] = 1\n",
    "data_est.loc[data_est.generic_suppress_flag =='*', 'generic_drug_cost'] = 1\n",
    "data_est.loc[data_est.other_suppress_flag =='*', 'other_claim_count'] = 1\n",
    "\n",
    "data_est.loc[data_est.other_suppress_flag =='#', 'other_claim_count'] = str(data_est.total_claim_count - data_est.brand_claim_count - data_est.generic_claim_count)\n",
    "data_est.loc[data_est.other_suppress_flag =='*', 'other_drug_cost'] = 1\n",
    "data_est.loc[data_est.other_suppress_flag=='#', 'other_drug_cost'] = data_est.total_drug_cost - data_est.brand_drug_cost - data_est.generic_drug_cost\n",
    "data_est.loc[data_est.brand_suppress_flag =='#', 'brand_claim_count'] = data_est.total_claim_count - data_est.generic_claim_count - data_est.other_claim_count\n",
    "data_est.loc[data_est.brand_suppress_flag =='#', 'brand_drug_cost'] = data_est.total_drug_cost - data_est.generic_drug_cost - data_est.other_drug_cost\n",
    "data_est.loc[data_est.generic_suppress_flag =='#', 'generic_claim_count'] = data_est.total_claim_count - data_est.brand_claim_count - data_est.other_claim_count\n",
    "data_est.loc[data_est.generic_suppress_flag =='#', 'generic_drug_cost'] = data_est.total_drug_cost - data_est.brand_drug_cost - data_est.other_drug_cost\n",
    "\n",
    "data = data.assign(brand_drug_cost = lambda x: (x.brand_drug_cost /(x.total_drug_cost - x.other_drug_cost)))\n",
    "data['brand_drug_cost_ratio'] = data['brand_drug_cost']\n",
    "data = data.drop(data[data.total_drug_cost == 0].index)\n",
    "data = data.drop(['brand_drug_cost','generic_drug_cost', 'other_drug_cost'], axis = 1)\n",
    "data_est = data_est.assign(brand_drug_cost = lambda x: (x.brand_drug_cost /(x.total_drug_cost - x.other_drug_cost)))\n",
    "data_est['brand_drug_cost_ratio'] = data_est['brand_drug_cost']\n",
    "data_est = data_est.drop(data_est[data_est.total_drug_cost == 0].index)\n",
    "data_est = data_est.drop(['brand_drug_cost','generic_drug_cost', 'other_drug_cost'], axis = 1)"
   ]
  },
  {
   "cell_type": "code",
   "execution_count": 49,
   "metadata": {},
   "outputs": [
    {
     "data": {
      "text/plain": [
       "0      0.055556\n",
       "1      0.154762\n",
       "2      0.034483\n",
       "3      0.038462\n",
       "4      0.037037\n",
       "5      0.000000\n",
       "6      0.076923\n",
       "7      0.965517\n",
       "8      0.363636\n",
       "9      0.416667\n",
       "10     0.330435\n",
       "11     0.000000\n",
       "12     0.017857\n",
       "13     0.542857\n",
       "14     0.043478\n",
       "16     0.052632\n",
       "17     0.265766\n",
       "18     0.410714\n",
       "19     0.026316\n",
       "21     0.335821\n",
       "22     0.950000\n",
       "23     0.162522\n",
       "24     0.597561\n",
       "25     0.052632\n",
       "26     0.050000\n",
       "27     0.194118\n",
       "28     0.393258\n",
       "29     0.413043\n",
       "30     0.027027\n",
       "31     0.120253\n",
       "         ...   \n",
       "167    0.595699\n",
       "168    0.227589\n",
       "169    0.016129\n",
       "172    0.489362\n",
       "173    0.627027\n",
       "174    0.076923\n",
       "175    0.265928\n",
       "176    0.952381\n",
       "177    0.437448\n",
       "178    0.159292\n",
       "180    0.207547\n",
       "181    0.156627\n",
       "182    0.159061\n",
       "183    0.265101\n",
       "184    0.409091\n",
       "185    0.023810\n",
       "186    0.030303\n",
       "187    0.027778\n",
       "188    0.015625\n",
       "189    0.385802\n",
       "190    0.103448\n",
       "191    0.272727\n",
       "192    0.039906\n",
       "193    0.152778\n",
       "194    0.772473\n",
       "195    0.030303\n",
       "196    0.149402\n",
       "197    0.131435\n",
       "198    0.094040\n",
       "199    0.183159\n",
       "Length: 193, dtype: float64"
      ]
     },
     "execution_count": 49,
     "metadata": {},
     "output_type": "execute_result"
    }
   ],
   "source": [
    "data_est['brand_claim_count']/(data_est['total_claim_count']-data_est['other_claim_count'])"
   ]
  },
  {
   "cell_type": "code",
   "execution_count": 50,
   "metadata": {
    "collapsed": true
   },
   "outputs": [],
   "source": [
    "\n",
    "data['brand_claim_count']=data['brand_claim_count'].astype('float64')\n",
    "data['total_claim_count']=data['total_claim_count'].astype('float64')\n",
    "data['other_claim_count']=data['other_claim_count'].astype('float64')\n"
   ]
  },
  {
   "cell_type": "markdown",
   "metadata": {
    "collapsed": true
   },
   "source": [
    "Calculating brand percentage of total and adding it to main dataframe"
   ]
  },
  {
   "cell_type": "code",
   "execution_count": 51,
   "metadata": {
    "collapsed": true,
    "scrolled": true
   },
   "outputs": [],
   "source": [
    "data_est = data_est.assign(brand_ratio = lambda x: (x.brand_claim_count /(x.total_claim_count - x.other_claim_count)))\n",
    "data = data.assign(brand_ratio = lambda x: (x.brand_claim_count /(x.total_claim_count - x.other_claim_count)))\n",
    "data_est = data_est.drop(['brand_claim_count','generic_claim_count'], axis = 1)\n",
    "data = data.drop(['brand_claim_count','generic_claim_count'], axis = 1)"
   ]
  },
  {
   "cell_type": "markdown",
   "metadata": {},
   "source": [
    "Assigning quartile to each brand ratio as target variable, and dropping brand_ratio for use in classification models"
   ]
  },
  {
   "cell_type": "code",
   "execution_count": 52,
   "metadata": {
    "collapsed": true,
    "scrolled": true
   },
   "outputs": [],
   "source": [
    "data['quartile'] = pd.qcut(data['brand_ratio'], 4, ['1','2','3','4'])\n",
    "data_est['quartile'] = pd.qcut(data_est['brand_ratio'], 4, ['1','2','3','4'])\n",
    "data = data.drop(['brand_ratio','brand_suppress_flag', 'generic_suppress_flag', 'other_suppress_flag'], axis = 1)\n",
    "data_est = data_est.drop(['brand_ratio', 'brand_suppress_flag', 'generic_suppress_flag', 'other_suppress_flag'], axis = 1)\n",
    "data.index = range(1,len(data) + 1)\n",
    "data_est.index = range(1,len(data_est) + 1)"
   ]
  },
  {
   "cell_type": "markdown",
   "metadata": {},
   "source": [
    "Standardizing values of non-string columns"
   ]
  },
  {
   "cell_type": "code",
   "execution_count": 53,
   "metadata": {
    "scrolled": true
   },
   "outputs": [],
   "source": [
    "from sklearn.preprocessing import StandardScaler\n",
    "scaler = StandardScaler()\n",
    "data[['total_claim_count', 'total_30_day_fill_count',\n",
    "       'total_day_supply','total_drug_cost', 'bene_count',\n",
    "       'brand_drug_cost_ratio',\n",
    "       'other_claim_count', 'average_age_of_beneficiaries', 'beneficiary_average_risk_score',\n",
    "       'gender_ratio', 'white_ratio', 'black_ratio', 'asian_ratio',\n",
    "       'hispanic_ratio', 'nat_ind_ratio', 'other_ratio',\n",
    "       'nondual_insure_ratio']] = scaler.fit_transform(data[['total_claim_count', 'total_30_day_fill_count',\n",
    "       'total_day_supply','total_drug_cost', 'bene_count',\n",
    "       'brand_drug_cost_ratio',\n",
    "       'other_claim_count', 'average_age_of_beneficiaries',\n",
    "       'beneficiary_average_risk_score',\n",
    "       'gender_ratio', 'white_ratio', 'black_ratio', 'asian_ratio',\n",
    "       'hispanic_ratio', 'nat_ind_ratio', 'other_ratio',\n",
    "       'nondual_insure_ratio']])\n",
    "\n",
    "data_est[['total_claim_count', 'total_30_day_fill_count',\n",
    "       'total_day_supply','total_drug_cost', 'bene_count',\n",
    "       'brand_drug_cost_ratio',\n",
    "       'other_claim_count', 'average_age_of_beneficiaries',\n",
    "       'beneficiary_average_risk_score',\n",
    "       'gender_ratio', 'white_ratio', 'black_ratio', 'asian_ratio',\n",
    "       'hispanic_ratio', 'nat_ind_ratio', 'other_ratio',\n",
    "       'nondual_insure_ratio']] = scaler.fit_transform(data_est[['total_claim_count', 'total_30_day_fill_count',\n",
    "       'total_day_supply','total_drug_cost', 'bene_count',\n",
    "       'brand_drug_cost_ratio',\n",
    "       'other_claim_count', 'average_age_of_beneficiaries',\n",
    "       'beneficiary_average_risk_score',\n",
    "       'gender_ratio', 'white_ratio', 'black_ratio', 'asian_ratio',\n",
    "       'hispanic_ratio', 'nat_ind_ratio', 'other_ratio',\n",
    "       'nondual_insure_ratio']])"
   ]
  },
  {
   "cell_type": "markdown",
   "metadata": {},
   "source": [
    "Splitting both datasets into train, validate, and test sets. Assigning X and Y vectors"
   ]
  },
  {
   "cell_type": "code",
   "execution_count": 54,
   "metadata": {
    "collapsed": true,
    "scrolled": true
   },
   "outputs": [],
   "source": [
    "train, validate, test = np.split(data.sample(frac=1), [int(.7*len(data)), int(.9*len(data))])\n",
    "X_data_train = train.iloc[:,0:22].values\n",
    "Y_data_train = train.iloc[:,23].values\n",
    "\n",
    "train, validate, test = np.split(data_est.sample(frac=1), [int(.7*len(data_est)), int(.9*len(data_est))])\n",
    "X_est_train = train.iloc[:,0:22].values\n",
    "Y_est_train = train.iloc[:,23].values"
   ]
  },
  {
   "cell_type": "code",
   "execution_count": null,
   "metadata": {
    "collapsed": true
   },
   "outputs": [],
   "source": []
  }
 ],
 "metadata": {
  "kernelspec": {
   "display_name": "Python 3",
   "language": "python",
   "name": "python3"
  },
  "language_info": {
   "codemirror_mode": {
    "name": "ipython",
    "version": 3
   },
   "file_extension": ".py",
   "mimetype": "text/x-python",
   "name": "python",
   "nbconvert_exporter": "python",
   "pygments_lexer": "ipython3",
   "version": "3.6.1"
  }
 },
 "nbformat": 4,
 "nbformat_minor": 2
}
